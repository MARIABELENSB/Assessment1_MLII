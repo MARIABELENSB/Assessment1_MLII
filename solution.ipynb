{
 "cells": [
  {
   "cell_type": "code",
   "execution_count": null,
   "metadata": {},
   "outputs": [],
   "source": [
    "import numpy as np  # linear algebra\n",
    "import pandas as pd  # data management (dataframes)\n",
    "import matplotlib.pyplot as plt  # plotting\n",
    "import seaborn as sns  # plotting\n",
    "from scipy import stats # basic statistics\n",
    "from sklearn.linear_model import LinearRegression\n",
    "from sklearn.utils import resample  # allows implementing bootstrap\n",
    "from sklearn.model_selection import train_test_split, GridSearchCV, cross_val_score\n",
    "from sklearn.tree import DecisionTreeRegressor, plot_tree\n",
    "from sklearn.ensemble import BaggingRegressor\n",
    "from sklearn.pipeline import Pipeline\n",
    "from sklearn.ensemble import AdaBoostRegressor, GradientBoostingRegressor"
   ]
  }
 ],
 "metadata": {
  "language_info": {
   "name": "python"
  }
 },
 "nbformat": 4,
 "nbformat_minor": 2
}
